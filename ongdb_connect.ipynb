{
 "cells": [
  {
   "cell_type": "code",
   "execution_count": 1,
   "metadata": {},
   "outputs": [],
   "source": [
    "from neo4j import GraphDatabase\n",
    "import pandas as pd\n",
    "import numpy as np\n",
    "import string"
   ]
  },
  {
   "cell_type": "code",
   "execution_count": 2,
   "metadata": {},
   "outputs": [],
   "source": [
    "from neo4j import GraphDatabase\n",
    "\n",
    "uri = \"bolt://localhost:7687\"\n",
    "\n",
    "driver = GraphDatabase.driver(uri, auth=('jupyter', 'jup'))\n"
   ]
  },
  {
   "cell_type": "code",
   "execution_count": 3,
   "metadata": {},
   "outputs": [],
   "source": [
    "\n",
    "with driver.session() as session:\n",
    "    result = session.run(\"MATCH (a) RETURN a limit 5\")"
   ]
  },
  {
   "cell_type": "code",
   "execution_count": 4,
   "metadata": {},
   "outputs": [],
   "source": [
    "# result.data()"
   ]
  },
  {
   "cell_type": "code",
   "execution_count": 5,
   "metadata": {},
   "outputs": [],
   "source": [
    "df = pd.read_csv(\"export_movies.csv\")"
   ]
  },
  {
   "cell_type": "code",
   "execution_count": 6,
   "metadata": {},
   "outputs": [
    {
     "data": {
      "text/html": [
       "<div>\n",
       "<style scoped>\n",
       "    .dataframe tbody tr th:only-of-type {\n",
       "        vertical-align: middle;\n",
       "    }\n",
       "\n",
       "    .dataframe tbody tr th {\n",
       "        vertical-align: top;\n",
       "    }\n",
       "\n",
       "    .dataframe thead th {\n",
       "        text-align: right;\n",
       "    }\n",
       "</style>\n",
       "<table border=\"1\" class=\"dataframe\">\n",
       "  <thead>\n",
       "    <tr style=\"text-align: right;\">\n",
       "      <th></th>\n",
       "      <th>Title</th>\n",
       "      <th>Genre</th>\n",
       "      <th>Actor</th>\n",
       "      <th>Director</th>\n",
       "      <th>Musician</th>\n",
       "      <th>Photography</th>\n",
       "      <th>Producer</th>\n",
       "      <th>Writer</th>\n",
       "      <th>Release Year</th>\n",
       "      <th>Studio</th>\n",
       "      <th>Release Date</th>\n",
       "      <th>Language</th>\n",
       "      <th>Country</th>\n",
       "      <th>Color</th>\n",
       "      <th>Runtime</th>\n",
       "      <th>Region</th>\n",
       "      <th>IMDb Url</th>\n",
       "      <th>Plot</th>\n",
       "      <th>IMDb Rating</th>\n",
       "      <th>Audience Rating</th>\n",
       "    </tr>\n",
       "  </thead>\n",
       "  <tbody>\n",
       "    <tr>\n",
       "      <td>0</td>\n",
       "      <td>The Adventure of Denchu-Kozo</td>\n",
       "      <td>Comedy, Horror, Science Fiction</td>\n",
       "      <td>Kei Fujiwara, Nobu Kanaoka, N. Senba</td>\n",
       "      <td>Shin'ya Tsukamoto</td>\n",
       "      <td>NaN</td>\n",
       "      <td>NaN</td>\n",
       "      <td>NaN</td>\n",
       "      <td>Shin'ya Tsukamoto</td>\n",
       "      <td>1987</td>\n",
       "      <td>NaN</td>\n",
       "      <td>1987</td>\n",
       "      <td>Japanese</td>\n",
       "      <td>Japan</td>\n",
       "      <td>Color</td>\n",
       "      <td>47</td>\n",
       "      <td>NaN</td>\n",
       "      <td>https://www.imdb.com/title/tt0166069/?ref_=ref...</td>\n",
       "      <td>Hikari is a boy who is bullied and teased by t...</td>\n",
       "      <td>6.6</td>\n",
       "      <td>NaN</td>\n",
       "    </tr>\n",
       "    <tr>\n",
       "      <td>1</td>\n",
       "      <td>Bullet Ballet</td>\n",
       "      <td>Crime, Drama, Science Fiction, Thriller</td>\n",
       "      <td>Shin'ya Tsukamoto, Kirina Mano, Tatsuya Nakamura</td>\n",
       "      <td>Shin'ya Tsukamoto</td>\n",
       "      <td>Chu Ishikawa</td>\n",
       "      <td>Shin'ya Tsukamoto</td>\n",
       "      <td>Igarashi Maison</td>\n",
       "      <td>Shin'ya Tsukamoto</td>\n",
       "      <td>1998</td>\n",
       "      <td>Kaijyu Theater</td>\n",
       "      <td>1998</td>\n",
       "      <td>Japanese</td>\n",
       "      <td>Japan</td>\n",
       "      <td>Color</td>\n",
       "      <td>87</td>\n",
       "      <td>NaN</td>\n",
       "      <td>https://www.imdb.com/title/tt0163563/?ref_=ref...</td>\n",
       "      <td>After his girlfriend commits suicide, a man (S...</td>\n",
       "      <td>7.1</td>\n",
       "      <td>NaN</td>\n",
       "    </tr>\n",
       "    <tr>\n",
       "      <td>2</td>\n",
       "      <td>Day of the Animals</td>\n",
       "      <td>Horror, Science Fiction, Thriller</td>\n",
       "      <td>Christopher George, Leslie Nielsen, Lynda Day ...</td>\n",
       "      <td>William Girdler</td>\n",
       "      <td>Lalo Schifrin</td>\n",
       "      <td>Robert Sorrentino</td>\n",
       "      <td>Edward L. Montoro, David Sheldon</td>\n",
       "      <td>William W. Norton, Eleanor E. Norton, Edward L...</td>\n",
       "      <td>1977</td>\n",
       "      <td>NaN</td>\n",
       "      <td>1977</td>\n",
       "      <td>English</td>\n",
       "      <td>USA</td>\n",
       "      <td>Color</td>\n",
       "      <td>97</td>\n",
       "      <td>NaN</td>\n",
       "      <td>https://www.imdb.com/title/tt0075913/?ref_=ref...</td>\n",
       "      <td>The depletion of the earth's ozone layer cause...</td>\n",
       "      <td>5.3</td>\n",
       "      <td>US - PG</td>\n",
       "    </tr>\n",
       "    <tr>\n",
       "      <td>3</td>\n",
       "      <td>Days of Thunder</td>\n",
       "      <td>Action, Drama, Sports</td>\n",
       "      <td>Tom Cruise, Robert Duvall, Nicole Kidman</td>\n",
       "      <td>Tony Scott</td>\n",
       "      <td>Hans Zimmer</td>\n",
       "      <td>Ward Russell</td>\n",
       "      <td>Jerry Bruckheimer, Gerald R. Molen, Don Simpson</td>\n",
       "      <td>Robert Towne, Tom Cruise</td>\n",
       "      <td>1990</td>\n",
       "      <td>Paramount Pictures</td>\n",
       "      <td>1990</td>\n",
       "      <td>English</td>\n",
       "      <td>USA</td>\n",
       "      <td>Color</td>\n",
       "      <td>107</td>\n",
       "      <td>Region Free</td>\n",
       "      <td>https://www.imdb.com/title/tt0099371/?ref_=ref...</td>\n",
       "      <td>Talented but unproven stock car driver Cole Tr...</td>\n",
       "      <td>6.0</td>\n",
       "      <td>US - PG-13</td>\n",
       "    </tr>\n",
       "    <tr>\n",
       "      <td>4</td>\n",
       "      <td>Deep Blood</td>\n",
       "      <td>Adventure, Horror</td>\n",
       "      <td>Frank Baroni, Cort McCown, Keith Kelsch</td>\n",
       "      <td>Raffaele Donato, Joe D'Amato</td>\n",
       "      <td>Carlo Maria Cordio</td>\n",
       "      <td>Joe D'Amato</td>\n",
       "      <td>NaN</td>\n",
       "      <td>George Nelson Ott</td>\n",
       "      <td>1990</td>\n",
       "      <td>Filmirage</td>\n",
       "      <td>1990</td>\n",
       "      <td>Italian</td>\n",
       "      <td>Italy</td>\n",
       "      <td>Color</td>\n",
       "      <td>95</td>\n",
       "      <td>NaN</td>\n",
       "      <td>https://www.imdb.com/title/tt0097178/?ref_=ref...</td>\n",
       "      <td>Several young men have to stop an ancient nati...</td>\n",
       "      <td>3.2</td>\n",
       "      <td>NaN</td>\n",
       "    </tr>\n",
       "  </tbody>\n",
       "</table>\n",
       "</div>"
      ],
      "text/plain": [
       "                          Title                                    Genre  \\\n",
       "0  The Adventure of Denchu-Kozo          Comedy, Horror, Science Fiction   \n",
       "1                 Bullet Ballet  Crime, Drama, Science Fiction, Thriller   \n",
       "2            Day of the Animals        Horror, Science Fiction, Thriller   \n",
       "3               Days of Thunder                    Action, Drama, Sports   \n",
       "4                    Deep Blood                        Adventure, Horror   \n",
       "\n",
       "                                               Actor  \\\n",
       "0               Kei Fujiwara, Nobu Kanaoka, N. Senba   \n",
       "1   Shin'ya Tsukamoto, Kirina Mano, Tatsuya Nakamura   \n",
       "2  Christopher George, Leslie Nielsen, Lynda Day ...   \n",
       "3           Tom Cruise, Robert Duvall, Nicole Kidman   \n",
       "4            Frank Baroni, Cort McCown, Keith Kelsch   \n",
       "\n",
       "                       Director            Musician        Photography  \\\n",
       "0             Shin'ya Tsukamoto                 NaN                NaN   \n",
       "1             Shin'ya Tsukamoto        Chu Ishikawa  Shin'ya Tsukamoto   \n",
       "2               William Girdler       Lalo Schifrin  Robert Sorrentino   \n",
       "3                    Tony Scott         Hans Zimmer       Ward Russell   \n",
       "4  Raffaele Donato, Joe D'Amato  Carlo Maria Cordio        Joe D'Amato   \n",
       "\n",
       "                                          Producer  \\\n",
       "0                                              NaN   \n",
       "1                                  Igarashi Maison   \n",
       "2                 Edward L. Montoro, David Sheldon   \n",
       "3  Jerry Bruckheimer, Gerald R. Molen, Don Simpson   \n",
       "4                                              NaN   \n",
       "\n",
       "                                              Writer  Release Year  \\\n",
       "0                                  Shin'ya Tsukamoto          1987   \n",
       "1                                  Shin'ya Tsukamoto          1998   \n",
       "2  William W. Norton, Eleanor E. Norton, Edward L...          1977   \n",
       "3                           Robert Towne, Tom Cruise          1990   \n",
       "4                                  George Nelson Ott          1990   \n",
       "\n",
       "               Studio  Release Date  Language Country  Color  Runtime  \\\n",
       "0                 NaN          1987  Japanese   Japan  Color       47   \n",
       "1      Kaijyu Theater          1998  Japanese   Japan  Color       87   \n",
       "2                 NaN          1977   English     USA  Color       97   \n",
       "3  Paramount Pictures          1990   English     USA  Color      107   \n",
       "4           Filmirage          1990   Italian   Italy  Color       95   \n",
       "\n",
       "        Region                                           IMDb Url  \\\n",
       "0          NaN  https://www.imdb.com/title/tt0166069/?ref_=ref...   \n",
       "1          NaN  https://www.imdb.com/title/tt0163563/?ref_=ref...   \n",
       "2          NaN  https://www.imdb.com/title/tt0075913/?ref_=ref...   \n",
       "3  Region Free  https://www.imdb.com/title/tt0099371/?ref_=ref...   \n",
       "4          NaN  https://www.imdb.com/title/tt0097178/?ref_=ref...   \n",
       "\n",
       "                                                Plot  IMDb Rating  \\\n",
       "0  Hikari is a boy who is bullied and teased by t...          6.6   \n",
       "1  After his girlfriend commits suicide, a man (S...          7.1   \n",
       "2  The depletion of the earth's ozone layer cause...          5.3   \n",
       "3  Talented but unproven stock car driver Cole Tr...          6.0   \n",
       "4  Several young men have to stop an ancient nati...          3.2   \n",
       "\n",
       "  Audience Rating  \n",
       "0             NaN  \n",
       "1             NaN  \n",
       "2         US - PG  \n",
       "3      US - PG-13  \n",
       "4             NaN  "
      ]
     },
     "execution_count": 6,
     "metadata": {},
     "output_type": "execute_result"
    }
   ],
   "source": [
    "df.head()"
   ]
  },
  {
   "cell_type": "code",
   "execution_count": 7,
   "metadata": {},
   "outputs": [],
   "source": [
    "df = df.fillna('null')"
   ]
  },
  {
   "cell_type": "code",
   "execution_count": null,
   "metadata": {},
   "outputs": [],
   "source": []
  },
  {
   "cell_type": "code",
   "execution_count": 8,
   "metadata": {},
   "outputs": [],
   "source": [
    "row_dicts = df.to_dict(orient='records')"
   ]
  },
  {
   "cell_type": "code",
   "execution_count": 9,
   "metadata": {},
   "outputs": [],
   "source": [
    "# CREATE (TheMatrix:Movie {title:'The Matrix', released:1999, tagline:'Welcome to the Real World'})\n",
    "# CREATE (Keanu:Person {name:'Keanu Reeves', born:1964})\n",
    "# CREATE (Carrie:Person {name:'Carrie-Anne Moss', born:1967})\n",
    "# CREATE (Laurence:Person {name:'Laurence Fishburne', born:1961})\n",
    "# CREATE (Hugo:Person {name:'Hugo Weaving', born:1960})\n",
    "# CREATE (LillyW:Person {name:'Lilly Wachowski', born:1967})\n",
    "# CREATE (LanaW:Person {name:'Lana Wachowski', born:1965})\n",
    "# CREATE (JoelS:Person {name:'Joel Silver', born:1952})"
   ]
  },
  {
   "cell_type": "code",
   "execution_count": 10,
   "metadata": {},
   "outputs": [],
   "source": [
    "def node_feat(row):\n",
    "    pairstrings = []\n",
    "    for x in row.items():\n",
    "        feat = x[0].replace(\" \",\"_\")\n",
    "        val = x[1]\n",
    "        if x[1] == 'null':\n",
    "            strin = f\"{feat}:{val}\"\n",
    "        elif isinstance(x[1], str):\n",
    "            val = val.replace('\"',\"\")\n",
    "            strin = f'{feat}:\"{val}\"'\n",
    "        else:\n",
    "            strin = f\"{feat}:{val}\"\n",
    "\n",
    "        pairstrings.append(strin)\n",
    "\n",
    "    dictstring = \", \".join(pairstrings)\n",
    "    return dictstring\n",
    "    "
   ]
  },
  {
   "cell_type": "code",
   "execution_count": 11,
   "metadata": {},
   "outputs": [],
   "source": [
    "def create_movie( movie):\n",
    "    return \"CREATE (%s:Movie {%s})\" % (movie['Title'].lower().translate(str.maketrans('', '', string.punctuation)).replace(\" \",\"_\"), node_feat(movie))"
   ]
  },
  {
   "cell_type": "code",
   "execution_count": 27,
   "metadata": {},
   "outputs": [],
   "source": [
    "for row in row_dicts:\n",
    "    with driver.session() as sess:\n",
    "        sess.run(create_movie(row))"
   ]
  },
  {
   "cell_type": "code",
   "execution_count": 28,
   "metadata": {},
   "outputs": [],
   "source": [
    "with driver.session() as session:\n",
    "    result = session.run(\"MATCH (a) RETURN count(a)\")"
   ]
  },
  {
   "cell_type": "code",
   "execution_count": 29,
   "metadata": {},
   "outputs": [
    {
     "data": {
      "text/plain": [
       "[{'count(a)': 15}]"
      ]
     },
     "execution_count": 29,
     "metadata": {},
     "output_type": "execute_result"
    }
   ],
   "source": [
    "result.data()"
   ]
  },
  {
   "cell_type": "code",
   "execution_count": 30,
   "metadata": {},
   "outputs": [],
   "source": [
    "def people_list(row, col):\n",
    "    plist = row[col].split(\", \")\n",
    "    return plist\n"
   ]
  },
  {
   "cell_type": "code",
   "execution_count": 31,
   "metadata": {},
   "outputs": [],
   "source": [
    "def merge_people_query(col, edge, num_peeps):  \n",
    "    \n",
    "    mmatch = \"MATCH (m:Movie {Title:$movie})\"\n",
    "    pmatch = [mmatch]\n",
    "    attach = []\n",
    "    peeps = [f\"person_{x}\" for x in range(num_peeps)]\n",
    "    \n",
    "    for peep in peeps:\n",
    "        pmatch.append(\"MERGE (%s:Person {Name:%s})\" % (peep, \"$\"+peep))\n",
    "        attach.append(\"MERGE (m)<-[:%s]-(%s)\" % (edge, peep))\n",
    "        attach.append(\"SET %s : %s\" % (peep, col))\n",
    "    \n",
    "    merges = \" \\n\".join(pmatch + attach)\n",
    "    return merges\n"
   ]
  },
  {
   "cell_type": "code",
   "execution_count": 32,
   "metadata": {},
   "outputs": [
    {
     "name": "stdout",
     "output_type": "stream",
     "text": [
      "MATCH (m:Movie {Title:$movie}) \n",
      "MERGE (person_0:Person {Name:$person_0}) \n",
      "MERGE (person_1:Person {Name:$person_1}) \n",
      "MERGE (person_2:Person {Name:$person_2}) \n",
      "MERGE (person_3:Person {Name:$person_3}) \n",
      "MERGE (m)<-[:ACTED_IN]-(person_0) \n",
      "SET person_0 : Actor \n",
      "MERGE (m)<-[:ACTED_IN]-(person_1) \n",
      "SET person_1 : Actor \n",
      "MERGE (m)<-[:ACTED_IN]-(person_2) \n",
      "SET person_2 : Actor \n",
      "MERGE (m)<-[:ACTED_IN]-(person_3) \n",
      "SET person_3 : Actor\n"
     ]
    }
   ],
   "source": [
    "print(merge_people_query('Actor', 'ACTED_IN', 4))"
   ]
  },
  {
   "cell_type": "code",
   "execution_count": 33,
   "metadata": {},
   "outputs": [],
   "source": [
    "def people_args(row, col):\n",
    "    pl = people_list(row, col)\n",
    "    peeps = [f\"person_{x}\" for x in range(len(pl))]\n",
    "    peep_dict = dict(zip(peeps, pl))\n",
    "    return peep_dict"
   ]
  },
  {
   "cell_type": "code",
   "execution_count": 34,
   "metadata": {},
   "outputs": [],
   "source": [
    "def merge_people(driver, row, col, edge):\n",
    "    \n",
    "    num_people = len(people_list(row,col))\n",
    "    query_template = merge_people_query(col, edge, num_people)\n",
    "    peep_dict = people_args(row, col)\n",
    "    \n",
    "    with driver.session() as session:\n",
    "        result = session.run(query_template,\n",
    "                             movie=row['Title'],\n",
    "                             **peep_dict\n",
    "                            )"
   ]
  },
  {
   "cell_type": "code",
   "execution_count": 35,
   "metadata": {},
   "outputs": [],
   "source": [
    "people_cols = ['Actor','Director', 'Musician', 'Photography', 'Producer', 'Writer']\n",
    "edges = [\"ACTED_IN\", \"DIRECTED\", \"MUSCIAN_IN\", \"PHOTOGRAPHY_FOR\", \"PRODUCED\", \"WROTE\"]\n",
    "role_zip = list(zip(people_cols, edges))\n",
    "for row in row_dicts:\n",
    "    for role in role_zip:\n",
    "        merge_people(driver, row, role[0], role[1])\n"
   ]
  },
  {
   "cell_type": "code",
   "execution_count": null,
   "metadata": {},
   "outputs": [],
   "source": [
    "# think about paralells edges"
   ]
  },
  {
   "cell_type": "code",
   "execution_count": null,
   "metadata": {},
   "outputs": [],
   "source": [
    "# Genre',\"IN_GENRE\","
   ]
  },
  {
   "cell_type": "code",
   "execution_count": 36,
   "metadata": {},
   "outputs": [],
   "source": [
    "# with driver.session() as session:\n",
    "#     result = session.run(\"MATCH ()-[e]-() RETURN e\")"
   ]
  },
  {
   "cell_type": "code",
   "execution_count": 38,
   "metadata": {},
   "outputs": [],
   "source": [
    "# result.data()"
   ]
  },
  {
   "cell_type": "code",
   "execution_count": null,
   "metadata": {},
   "outputs": [],
   "source": []
  }
 ],
 "metadata": {
  "kernelspec": {
   "display_name": "Python 3",
   "language": "python",
   "name": "python3"
  },
  "language_info": {
   "codemirror_mode": {
    "name": "ipython",
    "version": 3
   },
   "file_extension": ".py",
   "mimetype": "text/x-python",
   "name": "python",
   "nbconvert_exporter": "python",
   "pygments_lexer": "ipython3",
   "version": "3.7.4"
  }
 },
 "nbformat": 4,
 "nbformat_minor": 4
}
