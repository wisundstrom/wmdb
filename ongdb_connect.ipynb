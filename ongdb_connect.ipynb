{
 "cells": [
  {
   "cell_type": "code",
   "execution_count": 1,
   "metadata": {},
   "outputs": [],
   "source": [
    "from neo4j import GraphDatabase\n",
    "import pandas as pd\n",
    "import numpy as np\n",
    "import string"
   ]
  },
  {
   "cell_type": "code",
   "execution_count": 2,
   "metadata": {},
   "outputs": [],
   "source": [
    "from neo4j import GraphDatabase\n",
    "\n",
    "uri = \"bolt://192.168.1.203:7687\"\n",
    "\n",
    "driver = GraphDatabase.driver(uri, auth=('neo4j', 'oscarfelix'), encrypted=False)\n"
   ]
  },
  {
   "cell_type": "code",
   "execution_count": 3,
   "metadata": {},
   "outputs": [],
   "source": [
    "with driver.session() as session:\n",
    "    result = session.run(\"MATCH (a) RETURN a limit 5\")"
   ]
  },
  {
   "cell_type": "code",
   "execution_count": 4,
   "metadata": {},
   "outputs": [
    {
     "data": {
      "text/plain": [
       "[{'a': <Node id=0 labels={'Movie'} properties={'IMDb_Url': 'https://www.imdb.com/title/tt0086543/?ref_=ref_ext_clz', 'IMDb_Rating': 7.2, 'Color': 'Color', 'Plot': 'An alcoholic writer begins having visions apparently warning him of impending danger. After he delivers a lecture, he begins an affair with a woman from the audience. The visions intensify, however, and begin to threaten his relationship with the woman, since it may be her the visions are warning against.', 'Director': 'Paul Verhoeven', 'Title': 'The 4th Man', 'Release_Year': 1983, 'Studio': 'Rob Houwer Productions', 'Name': 'The 4th Man', 'Photography': 'Jan de Bont', 'Runtime': 102, 'Producer': 'Rob Houwer', 'Language': 'Dutch', 'Musician': 'Loek Dikker', 'Release_Date': 1983, 'Actor': 'Jeroen Krabbé, Renée Soutendijk, Thom Hoffman', 'Country': 'The Netherlands', 'Genre': 'Drama, Mystery, Thriller', 'Writer': 'Gerard Reve, Gerard Soeteman'}>},\n",
       " {'a': <Node id=1 labels={'Movie'} properties={'IMDb_Url': 'https://www.imdb.com/title/tt0166069/?ref_=ref_ext_clz', 'IMDb_Rating': 6.6, 'Color': 'Color', 'Plot': \"Hikari is a boy who is bullied and teased by the other boys at school because he has the odd distinction of having an electricity pole growing out of his back. However, one of his classmates, a girl named Momo, comes to his rescue. Hikari thanks her by sharing his secret possession with her: a time machine. He then activates the time machine which transports him 25 years into a dark, dystopian, world of the future. There he encounters members of the Shinsengumi Vampire Gang in the process of hunting a woman named Dr. Sariba who is revealed to be Momo's future self. She explains to Hikari that she had been long expecting his arrival from the past and that he has a crucial role to play here -- he and he alone must save the world.\", 'Director': \"Shin'ya Tsukamoto\", 'Title': 'The Adventure of Denchu-Kozo', 'Release_Year': 1987, 'Name': 'The Adventure of Denchu-Kozo', 'Runtime': 47, 'Language': 'Japanese', 'Release_Date': 1987, 'Actor': 'Kei Fujiwara, Nobu Kanaoka, N. Senba', 'Country': 'Japan', 'Genre': 'Comedy, Horror, Science Fiction', 'Writer': \"Shin'ya Tsukamoto\"}>},\n",
       " {'a': <Node id=2 labels={'Movie'} properties={'IMDb_Url': 'https://www.imdb.com/title/tt0092532/?ref_=ref_ext_clz', 'IMDb_Rating': 2.9, 'Audience_Rating': 'US - PG', 'Color': 'Color', 'Plot': 'When her archaeologist father disappears on an expedition, Wanda sets out to look for him. What she finds is a secret underground world, where no one believes in life on the surface and where she and her father are taken for spies.', 'Director': 'Albert Pyun', 'Title': 'Alien from L.A.', 'Release_Year': 1988, 'Studio': 'Golan-Globus Productions', 'Name': 'Alien from L.A.', 'Photography': 'Tom Fraser', 'Runtime': 87, 'Language': 'English', 'Producer': 'Yoram Globus, Menahem Golan, Tom Karnowski', 'Release_Date': 1988, 'Musician': 'Jim Andron, Steve LeGassick, Anthony Riparetti', 'Actor': 'Kathy Ireland, William R. Moses, Richard Haines', 'Country': 'USA', 'Genre': 'Adventure, Comedy, Science Fiction', 'Writer': 'Debra Ricci, Sandra Berg, Albert Pyun'}>},\n",
       " {'a': <Node id=3 labels={'Movie'} properties={'IMDb_Url': 'https://www.imdb.com/title/tt0083541/?ref_=ref_ext_clz', 'IMDb_Rating': 5.5, 'Audience_Rating': 'US - R', 'Color': 'Color', 'Plot': \"A beautiful young martial arts expert stops a vicious street gang from robbing her grandparents' house. The gang marks her for murder, but her grandparents are killed instead. The girl sets out to take her revenge on the gang.\", 'Director': 'Victor M. Ordonez, Ed Palmos, Al Valletta', 'Title': 'Alley Cat', 'Release_Year': 1984, 'Studio': 'Multicom Entertainment Group', 'Name': 'Alley Cat', 'Photography': 'Howard A. Anderson III', 'Runtime': 68, 'Producer': 'Claudia Decea, David A. Gronsky, Karin Mani', 'Language': 'English', 'Musician': 'Quito Colayco', 'Release_Date': 1984, 'Actor': 'Karin Mani, Robert Torti, Britt Helfer', 'Region': 'Region A', 'Country': 'USA', 'Genre': 'Action', 'Writer': 'Robert E. Waters'}>},\n",
       " {'a': <Node id=4 labels={'Movie'} properties={'IMDb_Url': 'https://www.imdb.com/title/tt0077174/?ref_=ref_ext_clz', 'IMDb_Rating': 5.6, 'Color': 'Color', 'Plot': \"Teenage girl is plagued by harassing phone calls. Her fear mounts when she's babysitting at a neighbor's home one evening and the caller rings her at that number.\", 'Director': 'Walter Grauman', 'Title': 'Are You in the House Alone?', 'Release_Year': 1978, 'Studio': 'CBS', 'Name': 'Are You in the House Alone?', 'Photography': 'Jack Swain', 'Runtime': 96, 'Producer': 'Jay Benson, Richard Berg, Charles W. Fries', 'Language': 'English', 'Release_Date': 1978, 'Musician': 'Charles Bernstein', 'Actor': 'Kathleen Beller, Blythe Danner, Tony Bill', 'Country': 'USA', 'Genre': 'Drama, Horror, Thriller', 'Writer': 'Judith Parker, Richard Peck'}>}]"
      ]
     },
     "execution_count": 4,
     "metadata": {},
     "output_type": "execute_result"
    }
   ],
   "source": [
    "result.data()"
   ]
  },
  {
   "cell_type": "code",
   "execution_count": 5,
   "metadata": {},
   "outputs": [],
   "source": [
    "df = pd.read_csv(\"export_movies.csv\")"
   ]
  },
  {
   "cell_type": "code",
   "execution_count": 6,
   "metadata": {},
   "outputs": [
    {
     "data": {
      "text/html": [
       "<div>\n",
       "<style scoped>\n",
       "    .dataframe tbody tr th:only-of-type {\n",
       "        vertical-align: middle;\n",
       "    }\n",
       "\n",
       "    .dataframe tbody tr th {\n",
       "        vertical-align: top;\n",
       "    }\n",
       "\n",
       "    .dataframe thead th {\n",
       "        text-align: right;\n",
       "    }\n",
       "</style>\n",
       "<table border=\"1\" class=\"dataframe\">\n",
       "  <thead>\n",
       "    <tr style=\"text-align: right;\">\n",
       "      <th></th>\n",
       "      <th>Title</th>\n",
       "      <th>Genre</th>\n",
       "      <th>Actor</th>\n",
       "      <th>Director</th>\n",
       "      <th>Musician</th>\n",
       "      <th>Photography</th>\n",
       "      <th>Producer</th>\n",
       "      <th>Writer</th>\n",
       "      <th>Release Year</th>\n",
       "      <th>Studio</th>\n",
       "      <th>Release Date</th>\n",
       "      <th>Language</th>\n",
       "      <th>Country</th>\n",
       "      <th>Color</th>\n",
       "      <th>Runtime</th>\n",
       "      <th>Region</th>\n",
       "      <th>IMDb Url</th>\n",
       "      <th>Plot</th>\n",
       "      <th>IMDb Rating</th>\n",
       "      <th>Audience Rating</th>\n",
       "    </tr>\n",
       "  </thead>\n",
       "  <tbody>\n",
       "    <tr>\n",
       "      <td>0</td>\n",
       "      <td>The 4th Man</td>\n",
       "      <td>Drama, Mystery, Thriller</td>\n",
       "      <td>Jeroen Krabbé, Renée Soutendijk, Thom Hoffman</td>\n",
       "      <td>Paul Verhoeven</td>\n",
       "      <td>Loek Dikker</td>\n",
       "      <td>Jan de Bont</td>\n",
       "      <td>Rob Houwer</td>\n",
       "      <td>Gerard Reve, Gerard Soeteman</td>\n",
       "      <td>1983</td>\n",
       "      <td>Rob Houwer Productions</td>\n",
       "      <td>1983</td>\n",
       "      <td>Dutch</td>\n",
       "      <td>The Netherlands</td>\n",
       "      <td>Color</td>\n",
       "      <td>102</td>\n",
       "      <td>NaN</td>\n",
       "      <td>https://www.imdb.com/title/tt0086543/?ref_=ref...</td>\n",
       "      <td>An alcoholic writer begins having visions appa...</td>\n",
       "      <td>7.2</td>\n",
       "      <td>NaN</td>\n",
       "    </tr>\n",
       "    <tr>\n",
       "      <td>1</td>\n",
       "      <td>The Adventure of Denchu-Kozo</td>\n",
       "      <td>Comedy, Horror, Science Fiction</td>\n",
       "      <td>Kei Fujiwara, Nobu Kanaoka, N. Senba</td>\n",
       "      <td>Shin'ya Tsukamoto</td>\n",
       "      <td>NaN</td>\n",
       "      <td>NaN</td>\n",
       "      <td>NaN</td>\n",
       "      <td>Shin'ya Tsukamoto</td>\n",
       "      <td>1987</td>\n",
       "      <td>NaN</td>\n",
       "      <td>1987</td>\n",
       "      <td>Japanese</td>\n",
       "      <td>Japan</td>\n",
       "      <td>Color</td>\n",
       "      <td>47</td>\n",
       "      <td>NaN</td>\n",
       "      <td>https://www.imdb.com/title/tt0166069/?ref_=ref...</td>\n",
       "      <td>Hikari is a boy who is bullied and teased by t...</td>\n",
       "      <td>6.6</td>\n",
       "      <td>NaN</td>\n",
       "    </tr>\n",
       "    <tr>\n",
       "      <td>2</td>\n",
       "      <td>Alien from L.A.</td>\n",
       "      <td>Adventure, Comedy, Science Fiction</td>\n",
       "      <td>Kathy Ireland, William R. Moses, Richard Haines</td>\n",
       "      <td>Albert Pyun</td>\n",
       "      <td>Jim Andron, Steve LeGassick, Anthony Riparetti</td>\n",
       "      <td>Tom Fraser</td>\n",
       "      <td>Yoram Globus, Menahem Golan, Tom Karnowski</td>\n",
       "      <td>Debra Ricci, Sandra Berg, Albert Pyun</td>\n",
       "      <td>1988</td>\n",
       "      <td>Golan-Globus Productions</td>\n",
       "      <td>1988</td>\n",
       "      <td>English</td>\n",
       "      <td>USA</td>\n",
       "      <td>Color</td>\n",
       "      <td>87</td>\n",
       "      <td>NaN</td>\n",
       "      <td>https://www.imdb.com/title/tt0092532/?ref_=ref...</td>\n",
       "      <td>When her archaeologist father disappears on an...</td>\n",
       "      <td>2.9</td>\n",
       "      <td>US - PG</td>\n",
       "    </tr>\n",
       "    <tr>\n",
       "      <td>3</td>\n",
       "      <td>Alley Cat</td>\n",
       "      <td>Action</td>\n",
       "      <td>Karin Mani, Robert Torti, Britt Helfer</td>\n",
       "      <td>Victor M. Ordonez, Ed Palmos, Al Valletta</td>\n",
       "      <td>Quito Colayco</td>\n",
       "      <td>Howard A. Anderson III</td>\n",
       "      <td>Claudia Decea, David A. Gronsky, Karin Mani</td>\n",
       "      <td>Robert E. Waters</td>\n",
       "      <td>1984</td>\n",
       "      <td>Multicom Entertainment Group</td>\n",
       "      <td>1984</td>\n",
       "      <td>English</td>\n",
       "      <td>USA</td>\n",
       "      <td>Color</td>\n",
       "      <td>68</td>\n",
       "      <td>Region A</td>\n",
       "      <td>https://www.imdb.com/title/tt0083541/?ref_=ref...</td>\n",
       "      <td>A beautiful young martial arts expert stops a ...</td>\n",
       "      <td>5.5</td>\n",
       "      <td>US - R</td>\n",
       "    </tr>\n",
       "    <tr>\n",
       "      <td>4</td>\n",
       "      <td>Are You in the House Alone?</td>\n",
       "      <td>Drama, Horror, Thriller</td>\n",
       "      <td>Kathleen Beller, Blythe Danner, Tony Bill</td>\n",
       "      <td>Walter Grauman</td>\n",
       "      <td>Charles Bernstein</td>\n",
       "      <td>Jack Swain</td>\n",
       "      <td>Jay Benson, Richard Berg, Charles W. Fries</td>\n",
       "      <td>Judith Parker, Richard Peck</td>\n",
       "      <td>1978</td>\n",
       "      <td>CBS</td>\n",
       "      <td>1978</td>\n",
       "      <td>English</td>\n",
       "      <td>USA</td>\n",
       "      <td>Color</td>\n",
       "      <td>96</td>\n",
       "      <td>NaN</td>\n",
       "      <td>https://www.imdb.com/title/tt0077174/?ref_=ref...</td>\n",
       "      <td>Teenage girl is plagued by harassing phone cal...</td>\n",
       "      <td>5.6</td>\n",
       "      <td>NaN</td>\n",
       "    </tr>\n",
       "  </tbody>\n",
       "</table>\n",
       "</div>"
      ],
      "text/plain": [
       "                          Title                               Genre  \\\n",
       "0                   The 4th Man            Drama, Mystery, Thriller   \n",
       "1  The Adventure of Denchu-Kozo     Comedy, Horror, Science Fiction   \n",
       "2               Alien from L.A.  Adventure, Comedy, Science Fiction   \n",
       "3                     Alley Cat                              Action   \n",
       "4   Are You in the House Alone?             Drama, Horror, Thriller   \n",
       "\n",
       "                                             Actor  \\\n",
       "0    Jeroen Krabbé, Renée Soutendijk, Thom Hoffman   \n",
       "1             Kei Fujiwara, Nobu Kanaoka, N. Senba   \n",
       "2  Kathy Ireland, William R. Moses, Richard Haines   \n",
       "3           Karin Mani, Robert Torti, Britt Helfer   \n",
       "4        Kathleen Beller, Blythe Danner, Tony Bill   \n",
       "\n",
       "                                    Director  \\\n",
       "0                             Paul Verhoeven   \n",
       "1                          Shin'ya Tsukamoto   \n",
       "2                                Albert Pyun   \n",
       "3  Victor M. Ordonez, Ed Palmos, Al Valletta   \n",
       "4                             Walter Grauman   \n",
       "\n",
       "                                         Musician             Photography  \\\n",
       "0                                     Loek Dikker             Jan de Bont   \n",
       "1                                             NaN                     NaN   \n",
       "2  Jim Andron, Steve LeGassick, Anthony Riparetti              Tom Fraser   \n",
       "3                                   Quito Colayco  Howard A. Anderson III   \n",
       "4                               Charles Bernstein              Jack Swain   \n",
       "\n",
       "                                      Producer  \\\n",
       "0                                   Rob Houwer   \n",
       "1                                          NaN   \n",
       "2   Yoram Globus, Menahem Golan, Tom Karnowski   \n",
       "3  Claudia Decea, David A. Gronsky, Karin Mani   \n",
       "4   Jay Benson, Richard Berg, Charles W. Fries   \n",
       "\n",
       "                                  Writer  Release Year  \\\n",
       "0           Gerard Reve, Gerard Soeteman          1983   \n",
       "1                      Shin'ya Tsukamoto          1987   \n",
       "2  Debra Ricci, Sandra Berg, Albert Pyun          1988   \n",
       "3                       Robert E. Waters          1984   \n",
       "4            Judith Parker, Richard Peck          1978   \n",
       "\n",
       "                         Studio  Release Date  Language          Country  \\\n",
       "0        Rob Houwer Productions          1983     Dutch  The Netherlands   \n",
       "1                           NaN          1987  Japanese            Japan   \n",
       "2      Golan-Globus Productions          1988   English              USA   \n",
       "3  Multicom Entertainment Group          1984   English              USA   \n",
       "4                           CBS          1978   English              USA   \n",
       "\n",
       "   Color  Runtime    Region  \\\n",
       "0  Color      102       NaN   \n",
       "1  Color       47       NaN   \n",
       "2  Color       87       NaN   \n",
       "3  Color       68  Region A   \n",
       "4  Color       96       NaN   \n",
       "\n",
       "                                            IMDb Url  \\\n",
       "0  https://www.imdb.com/title/tt0086543/?ref_=ref...   \n",
       "1  https://www.imdb.com/title/tt0166069/?ref_=ref...   \n",
       "2  https://www.imdb.com/title/tt0092532/?ref_=ref...   \n",
       "3  https://www.imdb.com/title/tt0083541/?ref_=ref...   \n",
       "4  https://www.imdb.com/title/tt0077174/?ref_=ref...   \n",
       "\n",
       "                                                Plot  IMDb Rating  \\\n",
       "0  An alcoholic writer begins having visions appa...          7.2   \n",
       "1  Hikari is a boy who is bullied and teased by t...          6.6   \n",
       "2  When her archaeologist father disappears on an...          2.9   \n",
       "3  A beautiful young martial arts expert stops a ...          5.5   \n",
       "4  Teenage girl is plagued by harassing phone cal...          5.6   \n",
       "\n",
       "  Audience Rating  \n",
       "0             NaN  \n",
       "1             NaN  \n",
       "2         US - PG  \n",
       "3          US - R  \n",
       "4             NaN  "
      ]
     },
     "execution_count": 6,
     "metadata": {},
     "output_type": "execute_result"
    }
   ],
   "source": [
    "df.head()"
   ]
  },
  {
   "cell_type": "code",
   "execution_count": 7,
   "metadata": {},
   "outputs": [],
   "source": [
    "df = df.fillna('null')"
   ]
  },
  {
   "cell_type": "code",
   "execution_count": 8,
   "metadata": {},
   "outputs": [
    {
     "data": {
      "text/plain": [
       "[]"
      ]
     },
     "execution_count": 8,
     "metadata": {},
     "output_type": "execute_result"
    }
   ],
   "source": [
    "with driver.session() as session:\n",
    "    result = session.run(\"Match ()-[e]-() delete e\")\n",
    "    result = session.run(\"Match (n)delete n\")\n",
    "    result = session.run(\"MATCH (a) RETURN a limit 5\")\n",
    "result.data()"
   ]
  },
  {
   "cell_type": "code",
   "execution_count": 9,
   "metadata": {},
   "outputs": [],
   "source": [
    "row_dicts = df.to_dict(orient='records')"
   ]
  },
  {
   "cell_type": "code",
   "execution_count": 10,
   "metadata": {},
   "outputs": [],
   "source": [
    "# row_dicts"
   ]
  },
  {
   "cell_type": "code",
   "execution_count": 11,
   "metadata": {},
   "outputs": [],
   "source": [
    "# CREATE (TheMatrix:Movie {title:'The Matrix', released:1999, tagline:'Welcome to the Real World'})\n",
    "# CREATE (Keanu:Person {name:'Keanu Reeves', born:1964})\n",
    "# CREATE (Carrie:Person {name:'Carrie-Anne Moss', born:1967})\n",
    "# CREATE (Laurence:Person {name:'Laurence Fishburne', born:1961})\n",
    "# CREATE (Hugo:Person {name:'Hugo Weaving', born:1960})\n",
    "# CREATE (LillyW:Person {name:'Lilly Wachowski', born:1967})\n",
    "# CREATE (LanaW:Person {name:'Lana Wachowski', born:1965})\n",
    "# CREATE (JoelS:Person {name:'Joel Silver', born:1952})"
   ]
  },
  {
   "cell_type": "code",
   "execution_count": 12,
   "metadata": {},
   "outputs": [],
   "source": [
    "def node_feat(row):\n",
    "    pairstrings = []\n",
    "    for x in row.items():\n",
    "        feat = x[0].replace(\" \",\"_\")\n",
    "        val = x[1]\n",
    "        if x[1] == 'null':\n",
    "            strin = f\"{feat}:{val}\"\n",
    "        elif isinstance(x[1], str):\n",
    "            val = val.replace('\"',\"\")\n",
    "            strin = f'{feat}:\"{val}\"'\n",
    "        else:\n",
    "            strin = f\"{feat}:{val}\"\n",
    "\n",
    "        pairstrings.append(strin)\n",
    "\n",
    "    dictstring = \", \".join(pairstrings)\n",
    "    return dictstring\n",
    "    "
   ]
  },
  {
   "cell_type": "code",
   "execution_count": 13,
   "metadata": {},
   "outputs": [],
   "source": [
    "def create_movie( movie):\n",
    "    return \"CREATE (%s:Movie {%s, %s})\" % (\n",
    "        movie['Title'].lower().translate(str.maketrans('', '', string.punctuation)).replace(\" \",\"_\"),\n",
    "        f\"\"\"name:\"{movie['Title']}\" \"\"\", \n",
    "        node_feat(movie))"
   ]
  },
  {
   "cell_type": "code",
   "execution_count": 14,
   "metadata": {},
   "outputs": [],
   "source": [
    "for row in row_dicts:\n",
    "    with driver.session() as sess:\n",
    "        sess.run(create_movie(row))"
   ]
  },
  {
   "cell_type": "code",
   "execution_count": 15,
   "metadata": {},
   "outputs": [
    {
     "data": {
      "text/plain": [
       "'CREATE (the_4th_man:Movie {name:\"The 4th Man\" , Title:\"The 4th Man\", Genre:\"Drama, Mystery, Thriller\", Actor:\"Jeroen Krabbé, Renée Soutendijk, Thom Hoffman\", Director:\"Paul Verhoeven\", Musician:\"Loek Dikker\", Photography:\"Jan de Bont\", Producer:\"Rob Houwer\", Writer:\"Gerard Reve, Gerard Soeteman\", Release_Year:1983, Studio:\"Rob Houwer Productions\", Release_Date:1983, Language:\"Dutch\", Country:\"The Netherlands\", Color:\"Color\", Runtime:102, Region:null, IMDb_Url:\"https://www.imdb.com/title/tt0086543/?ref_=ref_ext_clz\", Plot:\"An alcoholic writer begins having visions apparently warning him of impending danger. After he delivers a lecture, he begins an affair with a woman from the audience. The visions intensify, however, and begin to threaten his relationship with the woman, since it may be her the visions are warning against.\", IMDb_Rating:7.2, Audience_Rating:null})'"
      ]
     },
     "execution_count": 15,
     "metadata": {},
     "output_type": "execute_result"
    }
   ],
   "source": [
    "create_movie(row_dicts[0])"
   ]
  },
  {
   "cell_type": "code",
   "execution_count": 16,
   "metadata": {},
   "outputs": [],
   "source": [
    "with driver.session() as session:\n",
    "    result = session.run(\"MATCH (a) RETURN count(a)\")"
   ]
  },
  {
   "cell_type": "code",
   "execution_count": 17,
   "metadata": {},
   "outputs": [
    {
     "data": {
      "text/plain": [
       "[{'count(a)': 98}]"
      ]
     },
     "execution_count": 17,
     "metadata": {},
     "output_type": "execute_result"
    }
   ],
   "source": [
    "result.data()"
   ]
  },
  {
   "cell_type": "code",
   "execution_count": 18,
   "metadata": {},
   "outputs": [],
   "source": [
    "def people_list(row, col):\n",
    "    plist = row[col].split(\", \")\n",
    "    return plist\n"
   ]
  },
  {
   "cell_type": "code",
   "execution_count": 19,
   "metadata": {},
   "outputs": [],
   "source": [
    "def merge_people_query(col, edge, num_peeps):  \n",
    "    \n",
    "    mmatch = \"MATCH (m:Movie {Title:$movie})\"\n",
    "    pmatch = [mmatch]\n",
    "    attach = []\n",
    "    peeps = [f\"person_{x}\" for x in range(num_peeps)]\n",
    "    \n",
    "    for peep in peeps:\n",
    "        pmatch.append(\"MERGE (%s:Person {name:%s})\" % (peep, \"$\"+peep))\n",
    "        attach.append(\"MERGE (m)<-[:%s]-(%s)\" % (edge, peep))\n",
    "        attach.append(\"SET %s : %s\" % (peep, col))\n",
    "    \n",
    "    merges = \" \\n\".join(pmatch + attach)\n",
    "    return merges\n"
   ]
  },
  {
   "cell_type": "code",
   "execution_count": 20,
   "metadata": {},
   "outputs": [
    {
     "name": "stdout",
     "output_type": "stream",
     "text": [
      "MATCH (m:Movie {Title:$movie}) \n",
      "MERGE (person_0:Person {name:$person_0}) \n",
      "MERGE (person_1:Person {name:$person_1}) \n",
      "MERGE (person_2:Person {name:$person_2}) \n",
      "MERGE (person_3:Person {name:$person_3}) \n",
      "MERGE (m)<-[:ACTED_IN]-(person_0) \n",
      "SET person_0 : Actor \n",
      "MERGE (m)<-[:ACTED_IN]-(person_1) \n",
      "SET person_1 : Actor \n",
      "MERGE (m)<-[:ACTED_IN]-(person_2) \n",
      "SET person_2 : Actor \n",
      "MERGE (m)<-[:ACTED_IN]-(person_3) \n",
      "SET person_3 : Actor\n"
     ]
    }
   ],
   "source": [
    "print(merge_people_query('Actor', 'ACTED_IN', 4))"
   ]
  },
  {
   "cell_type": "code",
   "execution_count": 21,
   "metadata": {},
   "outputs": [],
   "source": [
    "def people_args(row, col):\n",
    "    pl = people_list(row, col)\n",
    "    peeps = [f\"person_{x}\" for x in range(len(pl))]\n",
    "    peep_dict = dict(zip(peeps, pl))\n",
    "    return peep_dict"
   ]
  },
  {
   "cell_type": "code",
   "execution_count": 22,
   "metadata": {},
   "outputs": [],
   "source": [
    "def merge_people(driver, row, col, edge):\n",
    "    \n",
    "    num_people = len(people_list(row,col))\n",
    "    query_template = merge_people_query(col, edge, num_people)\n",
    "    peep_dict = people_args(row, col)\n",
    "    \n",
    "    with driver.session() as session:\n",
    "        result = session.run(query_template,\n",
    "                             movie=row['Title'],\n",
    "                             **peep_dict\n",
    "                            )"
   ]
  },
  {
   "cell_type": "code",
   "execution_count": 23,
   "metadata": {},
   "outputs": [],
   "source": [
    "people_cols = ['Actor','Director', 'Musician', 'Photography', 'Producer', 'Writer']\n",
    "edges = [\"ACTED_IN\", \"DIRECTED\", \"MUSCIAN_IN\", \"PHOTOGRAPHY_FOR\", \"PRODUCED\", \"WROTE\"]\n",
    "role_zip = list(zip(people_cols, edges))\n",
    "for row in row_dicts:\n",
    "    for role in role_zip:\n",
    "        merge_people(driver, row, role[0], role[1])\n"
   ]
  },
  {
   "cell_type": "code",
   "execution_count": 24,
   "metadata": {},
   "outputs": [],
   "source": [
    "# think about paralells edges"
   ]
  },
  {
   "cell_type": "code",
   "execution_count": null,
   "metadata": {},
   "outputs": [],
   "source": [
    "# Genre',\"IN_GENRE\","
   ]
  },
  {
   "cell_type": "code",
   "execution_count": 28,
   "metadata": {},
   "outputs": [],
   "source": [
    "# with driver.session() as session:\n",
    "#     result = session.run(\"MATCH ()-[e]-() RETURN e\")"
   ]
  },
  {
   "cell_type": "code",
   "execution_count": 30,
   "metadata": {},
   "outputs": [],
   "source": [
    "# result.data()"
   ]
  },
  {
   "cell_type": "code",
   "execution_count": null,
   "metadata": {},
   "outputs": [],
   "source": []
  }
 ],
 "metadata": {
  "kernelspec": {
   "display_name": "Python 3",
   "language": "python",
   "name": "python3"
  },
  "language_info": {
   "codemirror_mode": {
    "name": "ipython",
    "version": 3
   },
   "file_extension": ".py",
   "mimetype": "text/x-python",
   "name": "python",
   "nbconvert_exporter": "python",
   "pygments_lexer": "ipython3",
   "version": "3.7.4"
  }
 },
 "nbformat": 4,
 "nbformat_minor": 4
}
